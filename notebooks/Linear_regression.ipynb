
{
 "cells": [
  {
   "cell_type": "markdown",
   "metadata": {
    "deletable": true,
    "editable": true
   },
   "source": [
    "# Univariate Linear Regression\n",
    "\n",
    "$ h_\\theta(x) = \\theta_0 + \\theta_1 * x $\n",
    "\n",
    "## Cost function\n",
    "\n",
    "$ J(\\theta_0, \\theta_1) = \\frac{1}{2m} \\sum_{i=1}^{m} (h_\\theta(x^{(i)}) - y^{(i)})^2 $\n",
    "\n",
    "## Gradient descent\n",
    "\n",
    "repeat until convergence {\n",
    "\n",
    ">$ \\theta_j = \\theta_j - \\alpha \\frac{\\partial}{\\partial \\theta_j} J(\\theta_0, \\theta_1) $\n",
    "\n",
    "}\n",
    "\n",
    "$ \\frac{\\partial}{\\partial \\theta_0} J(\\theta_0, \\theta_1) = \\frac{1}{m} \\sum_{i=1}^{m} (h_\\theta(x^{(i)}) - y^{(i)}) $\n",
    "\n",
    "$ \\frac{\\partial}{\\partial \\theta_1} J(\\theta_0, \\theta_1) = \\frac{1}{m} \\sum_{i=1}^{m} (h_\\theta(x^{(i)}) - y^{(i)}) x^{(i)} $"
   ]
  },
  {
   "cell_type": "code",
   "execution_count": 1,
   "metadata": {
    "collapsed": true,
    "deletable": true,
    "editable": true
   },
   "outputs": [],
   "source": [
    "import numpy as np\n",
    "import matplotlib.pyplot as plt\n",
    "%matplotlib inline"
   ]
  },
  {
   "cell_type": "code",
   "execution_count": 2,
   "metadata": {
    "collapsed": false,
    "deletable": true,
    "editable": true
   },
   "outputs": [
    {
     "data": {
      "image/png": "iVBORw0KGgoAAAANSUhEUgAAAXwAAAEWCAYAAABliCz2AAAABHNCSVQICAgIfAhkiAAAAAlwSFlz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\nNRKe8J1zrpHwhO+cc43E/wMfgOlX2oEI0wAAAABJRU5ErkJggg==\n",
      "text/plain": [
       "<matplotlib.figure.Figure at 0x84c43f0>"
      ]
     },
     "metadata": {},
     "output_type": "display_data"
    }
   ],
   "source": [
    "# Number of residents\n",
    "X = np.array([761873, 706004, 634487, 545680, 461489, 407180, 357652, 341722, 301834, 295459, 203158, 198857, 185123, 173831, 124145, 119574, 117738])\n",
    "X = X * 0.00001\n",
    "m = X.size\n",
    "# Number of cars\n",
    "Y = np.array([482747, 397452, 437672, 401576, 294667, 226191, 224288, 196850, 218852, 138271, 114581, 110440, 107436, 99258, 74317, 86604, 74210])\n",
    "Y = Y * 0.00001\n",
    "\n",
    "# Create copy of array X and insert column of ones at index 0.\n",
    "# Now we can calculate h_teta(x) = np.dot(Xprim, teta)\n",
    "Xprim = np.copy(X)\n",
    "Xprim.shape = (m, 1)\n",
    "Xprim = np.insert(Xprim, 0, 1, axis=1)\n",
    "\n",
    "# Initial theta parameters\n",
    "theta = np.array([1, 1])\n",
    "\n",
    "h_theta = np.dot(Xprim, theta)\n",
    "\n",
    "#plt.plot(X, Y, 'go', X, np.dot(Xprim, theta), 'b')\n",
    "plt.plot(X, Y, 'go')\n",
    "plt.plot(X, h_theta, 'b')\n",
    "\n",
    "plt.grid(True)\n",
    "plt.xlabel('Number of residents (in 100 thousands)')\n",
    "plt.ylabel('Number of cars (in 100 thousands)')\n",
    "plt.title('Cars and Residents (Poland 2017)')\n",
    "plt.show()"
   ]
  },
  {
   "cell_type": "code",
   "execution_count": 3,
   "metadata": {
    "collapsed": false,
    "deletable": true,
    "editable": true
   },
   "outputs": [],
   "source": [
    "J = np.sum(np.power(h_theta - Y, 2)) * 1/(2*m)\n",
    "alpha = 0.01\n",
    "\n",
    "J_arr = []\n",
    "\n",
    "n = 0\n",
    "while J > 0.05 and n < 1000:\n",
    "    J_arr.append(J)\n",
    "    \n",
    "    t0 = alpha * np.sum(h_theta - Y) * 1/m\n",
    "    t1 = alpha * (h_theta - Y).dot(X) * 1/m \n",
    "\n",
    "    theta = theta - np.array([t0, t1])\n",
    "    \n",
    "    h_theta = np.dot(Xprim, theta)\n",
    "    J = np.sum(np.power(h_theta - Y, 2)) * 1/(2*m)\n",
    "    \n",
    "    n += 1"
   ]
  },
  {
   "cell_type": "code",
   "execution_count": 4,
   "metadata": {
    "collapsed": false,
    "deletable": true,
    "editable": true
   },