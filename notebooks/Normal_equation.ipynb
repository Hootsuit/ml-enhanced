
{
 "cells": [
  {
   "cell_type": "markdown",
   "metadata": {
    "deletable": true,
    "editable": true
   },
   "source": [
    "# Normal equation\n",
    "$\\theta = (X^{\\intercal}X)^{-1}X^{\\intercal}Y$"
   ]
  },
  {
   "cell_type": "code",
   "execution_count": 1,
   "metadata": {
    "collapsed": true,
    "deletable": true,
    "editable": true
   },
   "outputs": [],
   "source": [
    "import numpy as np\n",
    "import matplotlib.pyplot as plt\n",
    "%matplotlib inline\n",
    "\n",
    "def normal_equation(X, Y):\n",
    "    theta = (X.T.dot(X)).I.dot(X.T).dot(Y)\n",
    "    return theta"
   ]
  },
  {
   "cell_type": "code",
   "execution_count": 2,
   "metadata": {
    "collapsed": false,
    "deletable": true,
    "editable": true
   },
   "outputs": [],
   "source": [
    "# Example from Multivariate_Linear_Regression notebook\n",
    "# Theta calculated with gradient descent: matrix([[310.72], [5.20445015], [62.60465382]])\n",
    "\n",
    "X = np.matrix([[84, 46],\n",
    "    [73, 20],\n",
    "    [65, 52],\n",
    "    [70, 30],\n",
    "    [76, 57],\n",
    "    [69, 25],\n",
    "    [63, 28],\n",
    "    [72, 36],\n",
    "    [79, 57],\n",
    "    [75, 44],\n",
    "    [27, 24],\n",
    "    [89, 31],\n",
    "    [65, 52],\n",
    "    [57, 23],\n",
    "    [59, 60],\n",
    "    [69, 48],\n",