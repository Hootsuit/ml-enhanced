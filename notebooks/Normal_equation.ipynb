
{
 "cells": [
  {
   "cell_type": "markdown",
   "metadata": {
    "deletable": true,
    "editable": true
   },
   "source": [
    "# Normal equation\n",
    "$\\theta = (X^{\\intercal}X)^{-1}X^{\\intercal}Y$"
   ]
  },
  {
   "cell_type": "code",
   "execution_count": 1,
   "metadata": {
    "collapsed": true,
    "deletable": true,
    "editable": true
   },
   "outputs": [],
   "source": [
    "import numpy as np\n",
    "import matplotlib.pyplot as plt\n",
    "%matplotlib inline\n",
    "\n",
    "def normal_equation(X, Y):\n",
    "    theta = (X.T.dot(X)).I.dot(X.T).dot(Y)\n",
    "    return theta"
   ]