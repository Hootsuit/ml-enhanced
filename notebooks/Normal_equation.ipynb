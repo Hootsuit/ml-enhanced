
{
 "cells": [
  {
   "cell_type": "markdown",
   "metadata": {
    "deletable": true,
    "editable": true
   },
   "source": [
    "# Normal equation\n",
    "$\\theta = (X^{\\intercal}X)^{-1}X^{\\intercal}Y$"
   ]
  },
  {
   "cell_type": "code",
   "execution_count": 1,
   "metadata": {