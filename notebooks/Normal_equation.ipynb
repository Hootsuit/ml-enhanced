
{
 "cells": [
  {
   "cell_type": "markdown",
   "metadata": {
    "deletable": true,
    "editable": true
   },
   "source": [
    "# Normal equation\n",
    "$\\theta = (X^{\\intercal}X)^{-1}X^{\\intercal}Y$"
   ]
  },
  {
   "cell_type": "code",
   "execution_count": 1,
   "metadata": {
    "collapsed": true,
    "deletable": true,
    "editable": true
   },
   "outputs": [],
   "source": [
    "import numpy as np\n",
    "import matplotlib.pyplot as plt\n",
    "%matplotlib inline\n",
    "\n",
    "def normal_equation(X, Y):\n",
    "    theta = (X.T.dot(X)).I.dot(X.T).dot(Y)\n",
    "    return theta"
   ]
  },
  {
   "cell_type": "code",
   "execution_count": 2,
   "metadata": {
    "collapsed": false,
    "deletable": true,
    "editable": true
   },
   "outputs": [],
   "source": [
    "# Example from Multivariate_Linear_Regression notebook\n",
    "# Theta calculated with gradient descent: matrix([[310.72], [5.20445015], [62.60465382]])\n",
    "\n",
    "X = np.matrix([[84, 46],\n",
    "    [73, 20],\n",
    "    [65, 52],\n",
    "    [70, 30],\n",
    "    [76, 57],\n",
    "    [69, 25],\n",
    "    [63, 28],\n",
    "    [72, 36],\n",
    "    [79, 57],\n",
    "    [75, 44],\n",
    "    [27, 24],\n",
    "    [89, 31],\n",
    "    [65, 52],\n",
    "    [57, 23],\n",
    "    [59, 60],\n",
    "    [69, 48],\n",
    "    [60, 34],\n",
    "    [79, 51],\n",
    "    [75, 50],\n",
    "    [82, 34],\n",
    "    [59, 46],\n",
    "    [67, 23],\n",
    "    [85, 37],\n",
    "    [55, 40],\n",
    "    [63, 30]])\n",
    "\n",
    "# Add column of ones at the begining for bias\n",
    "ONEZ = np.ones(shape=(X.shape[0], 1))\n",
    "X = np.concatenate((ONEZ, X), axis=1)\n",
    "\n",
    "Y = np.matrix('354; 190; 405; 263; 451; 302; 288; 385; 402; 365; 209; 290; 346; 254; 395; 434; 220; 374; 308; 220; 311; 181; 274; 303; 244')"
   ]
  },
  {
   "cell_type": "code",
   "execution_count": 3,
   "metadata": {
    "collapsed": false
   },
   "outputs": [
    {
     "data": {
      "text/plain": [
       "matrix([[ 77.98253861],\n",
       "        [  0.4173621 ],\n",
       "        [  5.21659081]])"
      ]
     },
     "execution_count": 3,
     "metadata": {},
     "output_type": "execute_result"
    }
   ],
   "source": [
    "theta = normal_equation(X, Y)\n",
    "theta"
   ]
  },
  {
   "cell_type": "code",
   "execution_count": 4,
   "metadata": {
    "collapsed": false
   },
   "outputs": [
    {
     "name": "stdout",
     "output_type": "stream",
     "text": [
      "Weight=55; Age=21; Predicted blood fat content=210.49\n",
      "Weight=65; Age=31; Predicted blood fat content=266.83\n",
      "Weight=75; Age=41; Predicted blood fat content=323.16\n",
      "Weight=85; Age=51; Predicted blood fat content=379.5\n",
      "Weight=95; Age=61; Predicted blood fat content=435.84\n"
     ]
    }
   ],
   "source": [
    "def predict(weight, age, theta):\n",
    "    a = np.array([1, weight, age])\n",
    "    return round(np.dot(a, theta.A1), 2)\n",
    "\n",
    "\n",
    "data = [(55, 21), (65, 31), (75, 41), (85, 51), (95, 61)]\n",
    "\n",
    "for w, a in data:\n",
    "    predicted_fat = predict(weight=w, age=a, theta=theta)\n",
    "    print('Weight={0}; Age={1}; Predicted blood fat content={2}'.format(w, a, predicted_fat))"
   ]
  },
  {
   "cell_type": "code",
   "execution_count": null,
   "metadata": {
    "collapsed": true
   },
   "outputs": [],
   "source": []
  }