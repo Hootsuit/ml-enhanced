
{
 "cells": [
  {
   "cell_type": "markdown",
   "metadata": {
    "deletable": true,
    "editable": true
   },
   "source": [
    "# Multivariate Linear Regression\n",
    "\n",
    "$ h_\\theta(x) = \\theta_0 * x_0 + \\theta_1 * x_1 + \\theta_2 * x_2 + ...  + \\theta_n * x_n $\n",
    "\n",
    "$ x_0 = 1$\n",
    "\n",
    "## Cost function\n",
    "\n",
    "$ J(\\theta) = \\frac{1}{2m} \\sum_{i=1}^{m} (h_\\theta(x^{(i)}) - y^{(i)})^2 $\n",
    "\n",
    "## Gradient descent\n",
    "\n",
    "repeat until convergence {\n",
    "\n",
    ">$ \\theta_j = \\theta_j - \\alpha \\frac{\\partial}{\\partial \\theta_j} J(\\theta) $\n",
    "\n",
    "}\n",
    "\n",
    "$ \\frac{\\partial}{\\partial \\theta_j} J(\\theta) = \\frac{1}{m} \\sum_{i=1}^{m} (h_\\theta(x^{(i)}) - y^{(i)}) x_j^{(i)} $"
   ]
  },
  {
   "cell_type": "code",
   "execution_count": 1,
   "metadata": {
    "collapsed": false,
    "deletable": true,
    "editable": true
   },
   "outputs": [],
   "source": [
    "import numpy as np\n",
    "import matplotlib.pyplot as plt\n",
    "%matplotlib inline\n",
    "\n",
    "def std_normalize(axis):\n",
    "    \"\"\"Rescale numpy 1-D array between <0, 1>\"\"\"\n",
    "    a1 = axis.A1\n",
    "    \n",
    "    a_mean = np.mean(a1)\n",
    "    a_std = np.std(a1)\n",
    "    \n",
    "    a_prim = list(map(lambda x: 1.0 * (x-a_mean) / a_std, a1))\n",
    "    return a_prim, a_mean, a_std\n",
    "\n",
    "# We will use simpler version when applying to matrix\n",
    "def std_n(axis):\n",
    "    a_prim, mean_a, std_a = std_normalize(axis)\n",
    "    \n",
    "    return a_prim"
   ]
  },
  {
   "cell_type": "markdown",
   "metadata": {
    "collapsed": true,
    "deletable": true,
    "editable": true
   },
   "source": [
    "## Hypothesis\n",
    "\n",
    "$ h_\\theta(x) = \\theta_0 * x_0 + \\theta_1 * x_1 + \\theta_2 * x_2 $\n",
    "\n",
    ",where:\n",
    "\n",
    "$ x_0 = 1 $ (used to make math easier)\n",
    "\n",
    "$ x_1 $ - Weight (kilograms)\n",
    "\n",
    "$ x_2 $ - Age (years)\n",
    "\n",
    "\n",
    "| Weight (kilograms) | Age (years) | Blood fat content |\n",
    "|--------------------|-------------|-------------------|\n",
    "| 84 | 46 | 354 |\n",
    "| 73 | 20 | 190 |\n",
    "| 65 | 52 | 405 |\n",
    "| 70 | 30 | 263 |\n",
    "| 76 | 57 | 451 |\n",
    "| 69 | 25 | 302 |\n",
    "| 63 | 28 | 288 |\n",
    "| 72 | 36 | 385 |\n",
    "| 79 | 57 | 402 |\n",
    "| 75 | 44 | 365 |\n",
    "| 27 | 24 | 209 |\n",
    "| 89 | 31 | 290 |\n",
    "| 65 | 52 | 346 |\n",
    "| 57 | 23 | 254 |\n",
    "| 59 | 60 | 395 |\n",
    "| 69 | 48 | 434 |\n",
    "| 60 | 34 | 220 |\n",
    "| 79 | 51 | 374 |\n",
    "| 75 | 50 | 308 |\n",
    "| 82 | 34 | 220 |\n",
    "| 59 | 46 | 311 |\n",
    "| 67 | 23 | 181 |\n",
    "| 85 | 37 | 274 |\n",
    "| 55 | 40 | 303 |\n",
    "| 63 | 30 | 244 | "
   ]
  },
  {
   "cell_type": "code",
   "execution_count": 2,
   "metadata": {
    "collapsed": false,
    "deletable": true,
    "editable": true
   },
   "outputs": [
    {
     "data": {
      "text/plain": [
       "(25, 2)"
      ]
     },
     "execution_count": 2,
     "metadata": {},
     "output_type": "execute_result"
    }
   ],
   "source": [
    "X = np.matrix([[84, 46],\n",
    "    [73, 20],\n",
    "    [65, 52],\n",
    "    [70, 30],\n",
    "    [76, 57],\n",
    "    [69, 25],\n",
    "    [63, 28],\n",
    "    [72, 36],\n",
    "    [79, 57],\n",
    "    [75, 44],\n",
    "    [27, 24],\n",
    "    [89, 31],\n",
    "    [65, 52],\n",
    "    [57, 23],\n",
    "    [59, 60],\n",
    "    [69, 48],\n",
    "    [60, 34],\n",
    "    [79, 51],\n",
    "    [75, 50],\n",
    "    [82, 34],\n",
    "    [59, 46],\n",
    "    [67, 23],\n",
    "    [85, 37],\n",
    "    [55, 40],\n",
    "    [63, 30]])\n",
    "\n",
    "\n",
    "# We need to store mean and standard deviation value\n",
    "_, WEIGHT_MEAN, WEIGHT_STD = std_normalize(X.T[0])\n",
    "_, AGE_MEAN, AGE_STD = std_normalize(X.T[1])\n",
    "\n",
    "# Rescale X values\n",
    "X = np.apply_along_axis(std_n, axis=0, arr=X)\n",
    "\n",
    "X.shape"
   ]
  },
  {
   "cell_type": "code",
   "execution_count": 3,
   "metadata": {
    "collapsed": false,
    "deletable": true,
    "editable": true
   },
   "outputs": [
    {
     "data": {
      "text/plain": [
       "(25, 1)"
      ]
     },
     "execution_count": 3,
     "metadata": {},
     "output_type": "execute_result"
    }
   ],
   "source": [
    "Y = np.matrix('354; 190; 405; 263; 451; 302; 288; 385; 402; 365; 209; 290; 346; 254; 395; 434; 220; 374; 308; 220; 311; 181; 274; 303; 244')\n",
    "\n",
    "Y.shape"
   ]
  },
  {
   "cell_type": "code",
   "execution_count": 4,
   "metadata": {
    "collapsed": false,
    "deletable": true,
    "editable": true
   },
   "outputs": [
    {
     "data": {
      "text/plain": [
       "(3, 1)"
      ]
     },
     "execution_count": 4,
     "metadata": {},
     "output_type": "execute_result"
    }
   ],
   "source": [
    "theta = np.matrix([[0.1], [0.1], [0.1]])\n",
    "theta.shape"
   ]
  },
  {
   "cell_type": "code",
   "execution_count": 5,
   "metadata": {
    "collapsed": false,
    "deletable": true,
    "editable": true
   },
   "outputs": [
    {
     "data": {
      "text/plain": [
       "(25, 3)"
      ]
     },
     "execution_count": 5,
     "metadata": {},
     "output_type": "execute_result"
    }
   ],
   "source": [
    "# Before we start, we need to add extra column for x_0\n",
    "# It will allow us to use matrix multiplication while \n",
    "# calculating our hypothesis\n",
    "ones = np.ones((X.shape[0], 1))\n",
    "\n",
    "X = np.append(ones, X, axis=1)\n",
    "X.shape"
   ]
  },
  {
   "cell_type": "code",
   "execution_count": 6,
   "metadata": {
    "collapsed": false,
    "deletable": true,
    "editable": true
   },
   "outputs": [
    {
     "data": {
      "text/plain": [
       "(25, 1)"
      ]
     },
     "execution_count": 6,
     "metadata": {},
     "output_type": "execute_result"
    }
   ],
   "source": [
    "# Initial hypothesis\n",
    "h_theta = X * theta\n",
    "h_theta.shape"
   ]
  },
  {
   "cell_type": "code",
   "execution_count": 7,
   "metadata": {
    "collapsed": false,
    "deletable": true,
    "editable": true
   },
   "outputs": [
    {
     "data": {
      "text/plain": [
       "51141.536981119672"
      ]
     },
     "execution_count": 7,
     "metadata": {},
     "output_type": "execute_result"
    }
   ],
   "source": [
    "# Number of training examples\n",
    "m = X.shape[0]\n",
    "\n",
    "# Initial cost \n",
    "J = np.sum(np.power(h_theta - Y, 2)) * 1/(2*m)\n",
    "J"
   ]
  },
  {
   "cell_type": "code",
   "execution_count": 8,
   "metadata": {
    "collapsed": false,
    "deletable": true,
    "editable": true
   },
   "outputs": [
    {
     "data": {
      "text/plain": [
       "matrix([[ 310.72      ],\n",
       "        [   5.20445015],\n",
       "        [  62.60465382]])"
      ]
     },
     "execution_count": 8,
     "metadata": {},
     "output_type": "execute_result"
    }
   ],
   "source": [
    "alpha = 0.01\n",
    "\n",
    "J_arr = []\n",
    "n = 0\n",
    "\n",
    "while J > 0.001 and n < 10000:\n",
    "    J_arr.append(J)\n",
    "\n",
    "    t = alpha * ((h_theta - Y).T.dot(X)) * 1/m \n",
    "    theta = theta - t.T\n",
    "\n",
    "    h_theta = X * theta\n",
    "    J = np.sum(np.power(h_theta - Y, 2)) * 1/(2*m)\n",
    "\n",
    "    n += 1\n",
    "\n",
    "theta    "
   ]
  },
  {
   "cell_type": "code",
   "execution_count": 9,
   "metadata": {
    "collapsed": false,
    "deletable": true,
    "editable": true
   },
   "outputs": [
    {
     "data": {
      "image/png": "iVBORw0KGgoAAAANSUhEUgAAAZUAAAEWCAYAAACufwpNAAAABHNCSVQICAgIfAhkiAAAAAlwSFlz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\nw/w/FWWKyQK4kyQAAAAASUVORK5CYII=\n",
      "text/plain": [
       "<matplotlib.figure.Figure at 0x817a3f0>"
      ]
     },
     "metadata": {},
     "output_type": "display_data"
    },
    {
     "name": "stdout",
     "output_type": "stream",
     "text": [
      "Final cost = 856.12450699\n"
     ]
    }
   ],
   "source": [
    "plt.plot(xrange(len(J_arr)), J_arr, 'g')\n",
    "plt.grid(True)\n",
    "plt.xlabel('Iterations')\n",
    "plt.ylabel('Cost')\n",
    "plt.title('Cost function')\n",
    "plt.show()\n",
    "\n",
    "print('Final cost = {0}'.format(J_arr[-1]))"
   ]