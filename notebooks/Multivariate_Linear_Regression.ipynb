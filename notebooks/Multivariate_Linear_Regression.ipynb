
{
 "cells": [
  {
   "cell_type": "markdown",
   "metadata": {
    "deletable": true,
    "editable": true
   },
   "source": [
    "# Multivariate Linear Regression\n",
    "\n",
    "$ h_\\theta(x) = \\theta_0 * x_0 + \\theta_1 * x_1 + \\theta_2 * x_2 + ...  + \\theta_n * x_n $\n",
    "\n",
    "$ x_0 = 1$\n",
    "\n",
    "## Cost function\n",
    "\n",
    "$ J(\\theta) = \\frac{1}{2m} \\sum_{i=1}^{m} (h_\\theta(x^{(i)}) - y^{(i)})^2 $\n",
    "\n",
    "## Gradient descent\n",
    "\n",
    "repeat until convergence {\n",
    "\n",
    ">$ \\theta_j = \\theta_j - \\alpha \\frac{\\partial}{\\partial \\theta_j} J(\\theta) $\n",
    "\n",
    "}\n",
    "\n",
    "$ \\frac{\\partial}{\\partial \\theta_j} J(\\theta) = \\frac{1}{m} \\sum_{i=1}^{m} (h_\\theta(x^{(i)}) - y^{(i)}) x_j^{(i)} $"
   ]
  },
  {
   "cell_type": "code",
   "execution_count": 1,
   "metadata": {
    "collapsed": false,
    "deletable": true,
    "editable": true
   },
   "outputs": [],
   "source": [
    "import numpy as np\n",
    "import matplotlib.pyplot as plt\n",
    "%matplotlib inline\n",
    "\n",
    "def std_normalize(axis):\n",
    "    \"\"\"Rescale numpy 1-D array between <0, 1>\"\"\"\n",
    "    a1 = axis.A1\n",
    "    \n",
    "    a_mean = np.mean(a1)\n",
    "    a_std = np.std(a1)\n",
    "    \n",
    "    a_prim = list(map(lambda x: 1.0 * (x-a_mean) / a_std, a1))\n",
    "    return a_prim, a_mean, a_std\n",
    "\n",
    "# We will use simpler version when applying to matrix\n",
    "def std_n(axis):\n",
    "    a_prim, mean_a, std_a = std_normalize(axis)\n",
    "    \n",
    "    return a_prim"
   ]
  },
  {
   "cell_type": "markdown",
   "metadata": {
    "collapsed": true,
    "deletable": true,
    "editable": true
   },
   "source": [
    "## Hypothesis\n",
    "\n",
    "$ h_\\theta(x) = \\theta_0 * x_0 + \\theta_1 * x_1 + \\theta_2 * x_2 $\n",
    "\n",
    ",where:\n",
    "\n",
    "$ x_0 = 1 $ (used to make math easier)\n",
    "\n",
    "$ x_1 $ - Weight (kilograms)\n",
    "\n",
    "$ x_2 $ - Age (years)\n",
    "\n",
    "\n",
    "| Weight (kilograms) | Age (years) | Blood fat content |\n",
    "|--------------------|-------------|-------------------|\n",
    "| 84 | 46 | 354 |\n",
    "| 73 | 20 | 190 |\n",
    "| 65 | 52 | 405 |\n",
    "| 70 | 30 | 263 |\n",
    "| 76 | 57 | 451 |\n",
    "| 69 | 25 | 302 |\n",
    "| 63 | 28 | 288 |\n",
    "| 72 | 36 | 385 |\n",
    "| 79 | 57 | 402 |\n",
    "| 75 | 44 | 365 |\n",
    "| 27 | 24 | 209 |\n",
    "| 89 | 31 | 290 |\n",
    "| 65 | 52 | 346 |\n",
    "| 57 | 23 | 254 |\n",
    "| 59 | 60 | 395 |\n",
    "| 69 | 48 | 434 |\n",
    "| 60 | 34 | 220 |\n",
    "| 79 | 51 | 374 |\n",
    "| 75 | 50 | 308 |\n",
    "| 82 | 34 | 220 |\n",
    "| 59 | 46 | 311 |\n",
    "| 67 | 23 | 181 |\n",
    "| 85 | 37 | 274 |\n",
    "| 55 | 40 | 303 |\n",
    "| 63 | 30 | 244 | "
   ]
  },
  {
   "cell_type": "code",
   "execution_count": 2,
   "metadata": {
    "collapsed": false,
    "deletable": true,
    "editable": true
   },
   "outputs": [
    {
     "data": {
      "text/plain": [
       "(25, 2)"
      ]
     },
     "execution_count": 2,
     "metadata": {},
     "output_type": "execute_result"
    }
   ],
   "source": [
    "X = np.matrix([[84, 46],\n",
    "    [73, 20],\n",
    "    [65, 52],\n",
    "    [70, 30],\n",
    "    [76, 57],\n",
    "    [69, 25],\n",
    "    [63, 28],\n",
    "    [72, 36],\n",
    "    [79, 57],\n",
    "    [75, 44],\n",
    "    [27, 24],\n",
    "    [89, 31],\n",
    "    [65, 52],\n",
    "    [57, 23],\n",
    "    [59, 60],\n",
    "    [69, 48],\n",
    "    [60, 34],\n",
    "    [79, 51],\n",
    "    [75, 50],\n",
    "    [82, 34],\n",
    "    [59, 46],\n",
    "    [67, 23],\n",
    "    [85, 37],\n",
    "    [55, 40],\n",
    "    [63, 30]])\n",
    "\n",
    "\n",
    "# We need to store mean and standard deviation value\n",
    "_, WEIGHT_MEAN, WEIGHT_STD = std_normalize(X.T[0])\n",
    "_, AGE_MEAN, AGE_STD = std_normalize(X.T[1])\n",
    "\n",
    "# Rescale X values\n",
    "X = np.apply_along_axis(std_n, axis=0, arr=X)\n",
    "\n",
    "X.shape"
   ]
  },
  {
   "cell_type": "code",
   "execution_count": 3,
   "metadata": {
    "collapsed": false,
    "deletable": true,
    "editable": true
   },
   "outputs": [
    {
     "data": {
      "text/plain": [
       "(25, 1)"
      ]
     },
     "execution_count": 3,
     "metadata": {},
     "output_type": "execute_result"
    }
   ],
   "source": [
    "Y = np.matrix('354; 190; 405; 263; 451; 302; 288; 385; 402; 365; 209; 290; 346; 254; 395; 434; 220; 374; 308; 220; 311; 181; 274; 303; 244')\n",
    "\n",
    "Y.shape"
   ]
  },
  {
   "cell_type": "code",
   "execution_count": 4,
   "metadata": {
    "collapsed": false,
    "deletable": true,
    "editable": true
   },
   "outputs": [
    {
     "data": {
      "text/plain": [
       "(3, 1)"
      ]
     },
     "execution_count": 4,
     "metadata": {},
     "output_type": "execute_result"
    }
   ],
   "source": [
    "theta = np.matrix([[0.1], [0.1], [0.1]])\n",
    "theta.shape"
   ]
  },
  {
   "cell_type": "code",
   "execution_count": 5,
   "metadata": {
    "collapsed": false,
    "deletable": true,
    "editable": true
   },
   "outputs": [
    {
     "data": {
      "text/plain": [
       "(25, 3)"
      ]
     },
     "execution_count": 5,
     "metadata": {},
     "output_type": "execute_result"
    }
   ],
   "source": [
    "# Before we start, we need to add extra column for x_0\n",
    "# It will allow us to use matrix multiplication while \n",
    "# calculating our hypothesis\n",
    "ones = np.ones((X.shape[0], 1))\n",
    "\n",
    "X = np.append(ones, X, axis=1)\n",
    "X.shape"
   ]
  },
  {
   "cell_type": "code",
   "execution_count": 6,
   "metadata": {
    "collapsed": false,
    "deletable": true,
    "editable": true
   },
   "outputs": [
    {
     "data": {
      "text/plain": [
       "(25, 1)"
      ]
     },
     "execution_count": 6,
     "metadata": {},
     "output_type": "execute_result"
    }
   ],
   "source": [
    "# Initial hypothesis\n",
    "h_theta = X * theta\n",
    "h_theta.shape"
   ]
  },
  {
   "cell_type": "code",
   "execution_count": 7,
   "metadata": {
    "collapsed": false,
    "deletable": true,
    "editable": true
   },
   "outputs": [
    {
     "data": {
      "text/plain": [
       "51141.536981119672"
      ]
     },