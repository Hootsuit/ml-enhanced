
{
 "cells": [
  {
   "cell_type": "markdown",
   "metadata": {
    "deletable": true,
    "editable": true
   },
   "source": [
    "# Multivariate Linear Regression\n",
    "\n",
    "$ h_\\theta(x) = \\theta_0 * x_0 + \\theta_1 * x_1 + \\theta_2 * x_2 + ...  + \\theta_n * x_n $\n",
    "\n",
    "$ x_0 = 1$\n",
    "\n",
    "## Cost function\n",
    "\n",
    "$ J(\\theta) = \\frac{1}{2m} \\sum_{i=1}^{m} (h_\\theta(x^{(i)}) - y^{(i)})^2 $\n",
    "\n",
    "## Gradient descent\n",
    "\n",
    "repeat until convergence {\n",
    "\n",
    ">$ \\theta_j = \\theta_j - \\alpha \\frac{\\partial}{\\partial \\theta_j} J(\\theta) $\n",
    "\n",
    "}\n",
    "\n",
    "$ \\frac{\\partial}{\\partial \\theta_j} J(\\theta) = \\frac{1}{m} \\sum_{i=1}^{m} (h_\\theta(x^{(i)}) - y^{(i)}) x_j^{(i)} $"
   ]
  },
  {
   "cell_type": "code",
   "execution_count": 1,
   "metadata": {
    "collapsed": false,
    "deletable": true,
    "editable": true
   },
   "outputs": [],
   "source": [
    "import numpy as np\n",
    "import matplotlib.pyplot as plt\n",
    "%matplotlib inline\n",
    "\n",
    "def std_normalize(axis):\n",
    "    \"\"\"Rescale numpy 1-D array between <0, 1>\"\"\"\n",
    "    a1 = axis.A1\n",