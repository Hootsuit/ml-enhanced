
{
 "cells": [
  {
   "cell_type": "markdown",
   "metadata": {
    "deletable": true,
    "editable": true
   },
   "source": [
    "# Logistic regression\n",
    "\n",
    "## Logistic regression model\n",
    "$ h_\\theta(x) = g(\\theta^{\\intercal}x) $\n",