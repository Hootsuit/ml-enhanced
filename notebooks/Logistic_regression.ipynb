
{
 "cells": [
  {
   "cell_type": "markdown",
   "metadata": {
    "deletable": true,
    "editable": true
   },
   "source": [
    "# Logistic regression\n",
    "\n",
    "## Logistic regression model\n",
    "$ h_\\theta(x) = g(\\theta^{\\intercal}x) $\n",
    "\n",
    "where: $ g(z) = \\frac{1}{1+e^{-z}} $; $z = \\theta^{\\intercal}x $\n",
    "\n",
    "$ h_\\theta(x) = \\frac{1}{1+e^{-\\theta^{\\intercal}x}} $\n",
    "\n",
    "## Cost function (with regularization)\n",
    "$ J(\\theta) = \\frac{1}{m} \\sum_{i=1}^{m} [-y^{(i)}log(h_\\theta(x^{(i)})) - (1 - y^{(i)})log(1 - h_\\theta(x^{(i)}))] + \\frac{\\lambda}{2m}\\sum_{j=1}^{n}\\theta_j^2$\n",
    "\n",
    "## Gradient descent (with regularization)\n",
    "\n",
    "repeat until convergence {\n",
    "\n",
    ">$ \\theta_j = \\theta_j - \\alpha \\frac{\\partial}{\\partial \\theta_j} J(\\theta) $\n",
    "\n",
    "}\n",
    "\n",
    "$ \\frac{\\partial}{\\partial \\theta_0} J(\\theta) = \\frac{1}{m} \\sum_{i=1}^{m} (h_\\theta(x^{(i)}) - y^{(i)}) x_j^{(i)} $ for j = 0 \n",
    "\n",
    "$ \\frac{\\partial}{\\partial \\theta_j} J(\\theta) = ( \\frac{1}{m} \\sum_{i=1}^{m} (h_\\theta(x^{(i)}) - y^{(i)}) x_j^{(i)} ) + \\frac{\\lambda}{m} \\theta_j $ for j >= 1"
   ]
  },
  {
   "cell_type": "code",
   "execution_count": 1,
   "metadata": {
    "collapsed": false,
    "deletable": true,
    "editable": true
   },
   "outputs": [],
   "source": [
    "from scipy import optimize\n",
    "import numpy as np\n",
    "import matplotlib.pyplot as plt\n",
    "%matplotlib inline"
   ]
  },
  {
   "cell_type": "code",
   "execution_count": 2,
   "metadata": {
    "collapsed": false,
    "deletable": true,
    "editable": true
   },
   "outputs": [
    {
     "data": {
      "image/png": "iVBORw0KGgoAAAANSUhEUgAAAYUAAAEWCAYAAACJ0YulAAAABHNCSVQICAgIfAhkiAAAAAlwSFlz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\n",
      "text/plain": [
       "<matplotlib.figure.Figure at 0x1280e410>"
      ]
     },
     "metadata": {},
     "output_type": "display_data"
    }
   ],
   "source": [
    "def sigmoid(x):\n",
    "    return 1.0 / (1 + np.exp(-1 * x))\n",
    "\n",
    "x = [0.1 * x for x in xrange(-100, 100)]\n",
    "y = map(sigmoid, x)\n",
    "\n",
    "plt.plot(x, y)\n",
    "\n",
    "plt.grid(True)\n",
    "plt.xlabel('X')\n",
    "plt.ylabel('Y')\n",
    "plt.title('Sigmoid')\n",
    "plt.show()"
   ]
  },
  {
   "cell_type": "code",
   "execution_count": 3,
   "metadata": {
    "collapsed": false,
    "deletable": true,
    "editable": true
   },
   "outputs": [
    {
     "data": {
      "image/png": "iVBORw0KGgoAAAANSUhEUgAAAZQAAAEWCAYAAABBvWFzAAAABHNCSVQICAgIfAhkiAAAAAlwSFlz\nAAALEgAACxIB0t1+/AAAIABJREFUeJzt3XucXWV97/HPNxFGYyAEMCO3TIJCFUTRCYi1p2RIVOhR\nsG20oQGTljmprRxBTzziSesMak7xNDVovdUzQqJDHSz1EhVFJpnBegQ1VAi3AiGZcCkmXKMBOwL5\nnT/WmmRlZ19nr+vev/frtV6z99pr7fXba/Zev/U8z1rPIzPDOeeca9aUrANwzjnXGjyhOOeci4Un\nFOecc7HwhOKccy4WnlCcc87FwhOKc865WHhCcW1J0hcl/U3K2zRJr6zw2hJJP0wzHufiJr8PxbUS\nSWPA0cDRZvZ4ZP4vgFOBuWY2llFsBpxgZltifM8vAheETw8GBIyHz//VzM6Z5Pu+F1hkZgubj9K1\nCy+huFa0DTh/4omkU4Bpzb6pArn6zZjZe81suplNB/43cO3E88kmE+cmK1c/Dudi8lXgPZHnS4Gv\nRBeQtFbSJyLPz5N0m6RfSXpA0tnh/FFJqyT9P+BZ4HhJR0taL+lJSVsk/bfI+0yV9L/C9/i1pFsl\nHRfZ9EJJ90t6WtLnJClcb5mkH0fexyS9X9JWSY9L+rvJJjNJ/0XST8Nt/pukN0de+2+SxsJYt0p6\nl6TXA1cC8yXtlvTLyD7693DZhyS9fzLxuNb1oqwDcC4BtwAXSno1cB+wGHgz8IlyC0s6nSDhLAI2\nAEcBh0QWuRA4B7iXoEppA3AnQdXaq4AbJT1gZhuBDxKUjv4g3PZrCRLRhLcDpwGHArcC3wF+UOFz\n/CEwD5gODIfbH6hzH0x8tjnAt4A/ATYCZwPfknRiuMjfAd1m9oCko4EZZnaPpEs5sMrrKuAcM/uZ\npCOA2Y3E4lqfl1Bcq5oopbwFuAd4pMqyFwFXmdmNZrbHzB4xs3+PvL7WzO4ys+eBlxMkpw+b2X+a\n2W0EB/mJElEv8Ndmdq8FbjezJyLvdYWZPW1mDwIjBO06lXzSzJ4Ml72SSDVeA5YC3zCz4fCzXQ/c\nDbw1ssxrJL3YzP7DzO6p8l4vACdLOsTMnjCzX0wiHtfCPKG4VvVV4E+BZZRUd5VxHPBAldcfijw+\nGnjSzH4dmbcdOKbO9/pl5PGzBKWPera7Pdx2o7qAC8LqrqclPU1Q6jnazJ4ClgDvB34ZVuOVvQot\ndB7wx8CDkjZKOm0S8bgW5gnFtSQz207QOP8HwDdqLP4Q8Ipqbxd5/B/A4ZKiVWKz2VcCqvVejYi2\nvcwOt92oh4ABMzssMr3UzNYAmNn3zGwBQbJ6EPhCuN4Bl3+a2c1m9nagE/gh8E+TiMe1ME8orpVd\nBJxlZs/UWO7LwJ9JWiBpiqRjJL2q3IJm9hDwE+BvJb1Y0mvD7QyGiwwAH5d0QnhV2GvD9obJ+JCk\nmWGj/iXAtZN4j3XAu8LPNlXSS8LHLw8/53+VNI3gUuPdwJ5wvR3AcZIOApD0UkmLJR0KPAf8OrKs\nc4AnFNfCzOwBM9tUx3I/A/4MWAPsAm4iqCqq5HxgDkGJ4ZtAn5kNh699Cvg6wRn8rwiS1Usm+RG+\nTdBwfxvwvfC9GmJmWwmqqS4HHieoOruE4Lc/FbiMoBruCYKLBS4OV/0BMAbslPRwOO/Pw/V3EbQZ\nRa+kc85vbHQuj5K4CdK5pHkJxTnnXCw8oTjnnIuFV3k555yLhZdQnHPOxaKtul458sgjbc6cOalt\n75lnnuGlL31pattrlMfXHI+vOR5fc9KM79Zbb33czF5Wc0Eza5upu7vb0jQyMpLq9hrl8TXH42uO\nx9ecNOMDNlkdx1iv8nLOORcLTyjOOedi4QnFOedcLDyhOOeci4UnFOecc7HwhOIcQH9/1hE4V3ie\nUJwDuPzyrCNwrvA8oTjnnIuFJxTXvvr7QQom2Pe41au/Wv3zucx4QnHtq78fzIIJ9j1u9QOuV++5\nhHhCcc45FwtPKM4B9PVlHUGy2rV6z6WqrXobdq6iVj+w9vfv+4zSvmo+52LkJRTnnHOx8ITiXLtp\n9eo9lxlPKM61m1av3nOZ8YTinHMuFpkmFElXSdop6c4Kr0vSZyRtkbRZ0hsiry2VdH84LU0v6hbk\nZ6yN833m3AGyLqGsBc6u8vo5wAnhtBz4AoCkw4E+4I3A6UCfpJmJRtrK2vFGt2YTQjvuM+dqyDSh\nmNmPgCerLHIe8JVwWONbgMMkHQW8DbjRzJ40s6eAG6memJzbnycE52KX9/tQjgEeijx/OJxXaf4B\nJC0nKN3Q2dnJ6OhoIoGWs3v37lS314g5a9cyf926fTPCG97Gli5lbNmybIIqkeT+mw8Nv/ectWuZ\nE9ln83t6gHzts6g8f//A42tWLuMzs0wnYA5wZ4XXvgv8XuT5BmAesAL468j8vwFW1NpWd3e3pWlk\nZCTV7TVqb3yQaRxmZoObB61rTZepX9a1pssGNw/Gv//6+iZ669p/6utr/L2gOP/fnPL4mpNmfMAm\nq+N4nnUbSi2PAMdFnh8bzqs03xXQNXdcw/LvLGf7ru0YxvZd21n+neUM7xiOd0Pt2hmkcynJe0JZ\nD7wnvNrrDGCXmT0K3AC8VdLMsDH+reE8NxkZ3+i2csNKnn3u2f3mPfvcswxsG8goojr4zYHOHSDr\ny4a/BtwM/I6khyVdJOm9kt4bLnI9sBXYAvxf4K8AzOxJ4OPAz8PpY+E8NxkZn6E/uOvBsvN3ju9M\nbqPNJoSs9pmXplyOZX2V1/lmdpSZHWRmx5rZl83si2b2xfB1M7P3mdkrzOwUM9sUWfcqM3tlOF2d\n3adwQFMHutkzZpedP6tj1qTfs6a0Dsxxb8evTnM5lvcqL1cUTRzoVi1YxbSDpu03b9pB0+id29ts\nVNnzBODaiCeUdpWjqpMlpyzhS+/4El0zuhCia0YXX3rHl1jYuTDr0PLBxzJxBeEJpV3FceYc44Fu\nySlLGLt0jD19exi7dIwlpyxpPr6sxJ0A/Oq0xvh+yYwnFDd5fqArz/dLtryaMTOeUNpJyZnz/J4e\nrzopGr9c2eWYJ5R2UnLmPDoyEt+Zsx/oyot7v3jyL8/bmXIh7315uaLwH255vl/S0d+/b19L+6ob\nXaq8hNKuvEThnIuZJ5R25WfOrlX5yVJmPKE45xqX5xOSPMfW4jyhOFfimjuuYc6Vc5hy+RTmXDmH\na+64JuuQ8scvzXVleKO8cxETXelP9H480ZU+UOybLZ1LgZdQXMuIo2RRqSv9lRtWxhVmcfmlua4G\nL6G4lhBXyaJSV/qV5rcVvzTX1eAlFJeJuNsp4ipZVOpKv9L8psR9Zu8lBZcxTygudZWG/G0mqcRV\nsqjUlf6qBasmHVtFcTdsp9lQ7pfmujI8objUJdFOEVfJolJX+t4gXyKu0pCXqlpK1kMAny3pXklb\nJF1W5vU1km4Lp/skPR157YXIa+vTjdw1I4l2ijhLFol2pZ9E1/ZFbij3y49bSmYJRdJU4HPAOcBJ\nwPmSToouY2YfMLNTzexU4B+Ab0Re/s3Ea2Z2bmqBu6Yl0U5RmJJF3F3be1f5LkeyLKGcDmwxs61m\n9ltgCDivyvLnA19LJTKXqKTaKVpqkK5WFpaq5vf0BM/jKFV5As0FWUaX/klaBJxtZr3h8wuBN5rZ\nxWWW7QJuAY41sxfCec8DtwHPA1eY2bcqbGc5sBygs7Oze2hoKImPU9bu3buZPn16attrVJbxDe8Y\nZmDbADvHdzKrYxa9c3sPGPK31fffnLVrGVu2LLZ4St+vCPvv7e94RzCMQpPm9/TE8j5RRdh/acXX\n09Nzq5nNq7mgmWUyAYuAgcjzC4HPVlj2w8A/lMw7Jvx7PDAGvKLWNru7uy1NIyMjqW6vUR5fczy+\n5oyMjAQVdHGI630iCrH/UgJssjqO61lWeT0CHBd5fmw4r5zFlFR3mdkj4d+twCjw+vhDLLgkqwFy\nVMWQt7638hZPrjVz+XHRL0hoQVkmlJ8DJ0iaK+lggqRxwNVakl4FzARujsybKakjfHwk8Gbg7lSi\nLpIkr6DJ4OqccgfqJO5paTbGPMVTj0wTYLPtJn5BQq5kllDM7HngYuAG4B7g62Z2l6SPSYpetbUY\nGAqLXRNeDWySdDswQtCGUryE4l/8ulU6UF/y/UsmdU9LUgfRovUFVsQE6PIr0/tQzOx6MzvRzF5h\nZqvCeR81s/WRZfrN7LKS9X5iZqeY2evCv19OO/ZYJHGWn2Q1QIZVDJUO1E/85omyy1e7pyXJg2jR\n+gKLOwFmVtrxO/dzwe+UbzVJVgNkWMXQ6AG52j0tSZYiUu0LLAZxJsBMSzt5KO3nIYaMeUJJmzck\nTkqlA/IRLzmi4XtakixFpNoXWAziTIBFq+6Lnd/17wkldWme5SdZDZByFUOlA/Wnz/k0S1+3lKma\nCsBUTWXp65ZWvakxyVJEYe7YD8WZAHNf3ecnbYnzhNLK6vgBTbrOO+UfZ6UDNcC629fxQnC/Ky/Y\nC6y7fV3Vz5F0KaJId+zHmQBzX91XtDbLAvIBtrKUcUPi8I5h1vxkTWGGu11yypID4ppz5ZyK1SyV\nPsPE/JUbVvLgrgeZPWM2qxasyuVnTkO5/ToZqxas2m+QM8h3dV8sfNCx/XgJJUsZn8UMbBsofJ33\nZKtZilSKSEzM379cVvd5CSJVXkJpYzvHd5adn5s67zrMnjGb7bu2l53varj88kSSSq6Sc5olCL90\n2UsoRRPndf6zOmaVnV+kg3HRrqpyMctTSSNPsWTEE0qBxH2df+/c3sIfjHNZzZJnrVYF1EhDu5cg\nEucJpUDivs5/YefCljgYt0p7SCp3mZe5bP2azYPMOWxt63dmWdSkWSDehlIgSVznn7s67zY1UfpM\n+4q7rLbblP7+/UsmE6Wtvj5PGhnzEkqB5P46fzdpmdxl3tdXzLvbvZfh3PKEUiDeAN2YalVIeRuz\nJJO7zPv78393uysUTyhpa+Isyhug61ftAoY8dtleqZR5+EsOTzTxFb7U6w3tueIJJW1Ndv/QKg3Q\nSatWlZPHap5ypc+Dpx7Mr8Z/lWjiK3yp16u5csUTimtJ1apy8ljNU670ecjBh/Dcnuf2W65c4mum\n+s5LvS5OfpVXGvyqlNTVuoM+j3fXl15xN+Xy8ud70cRX7SqtYzhmUtt1brIqllAknSzpx5K2Sfq8\npBmR126utF4jJJ0t6V5JWyRdVub1ZZIek3RbOPVGXlsq6f5wWhpHPIlp8atS8tbADdWrcopSzVNP\n+0Yeq+9aUov8VpNWrcrri8AVwGnAg8CPJc0NX3txsxuWNBX4HHAOcBJwvqSTyix6rZmdGk4D4bqH\nA33AG4HTgT5JM5uNqZAy/qLnsYEbqlflFKWap57El8fqu5bkg2fVpVpCOcTMvmtmj5vZFcAHgB9K\nOg2Io4e104EtZrbVzH4LDAHn1bnu24AbzexJM3sKuBE4O4aYkhf3VSkZf9HzfIZc7QKGIlzcUE/i\nK/xVWiXyWNp19ZNV6H1T0mbg98zsV5F5pwL/DMw0syOb2rC0CDjbzHrD5xcCbzSziyPLLAP+FngM\nuA/4gJk9JGkF8GIz+0S43N8AvzGz1WW2sxxYDtDZ2dk9NDTUTNgN2b17N9OnT090G/N7ehgdGZnU\nunHEd9ZNZ2Flzi+E2HjmxprrD+8YZmDbADvHdzKrYxa9c3tZ2LkwtviSlIf4hncMs/q+1YzvGd87\nr2NKBytOXMEZLz0j8/iqKd1/1T7LxHciTUd/6Uuc+LWvHTB/bOlSxpYtSz2eUml+/3p6em41s3k1\nFzSzshNwIfCmMvPnAFdXWq/eCVgEDJRs77MlyxwBdISP/wLYGD5eAfx1ZLm/AVbU2mZ3d7elaWRk\nJJk37uubaIXZf+rrq7ra4OZB61rTZeqXda3pspVDK5sOpWtNl9HPAVPXmq6a6w5uHrRpq6btt960\nVdNscPOgmSW4/2KSl/hK/69F3X/NfJcSjw8yiaGaNP+/wCar47hescrLzL5qZgc0vpvZmJn9WV1p\nrbpHgOMiz48N50W39YSZTZyuDADd9a7b0ibRyF+urWP1faubrlJopoE7z9VlRVKE6rt6eHtQ8WV5\nH8rPgRMkzZV0MLAYWB9dQNJRkafnAveEj28A3ippZtgY/9Zwnqug3MF7fM940wfvZhq4/QDiorJq\nD6qr3cbvyK9LZvehmNnzki4mSARTgavM7C5JHyMoXq0H3i/pXOB54ElgWbjuk5I+TpCUAD5mZk+m\n/iHyoM4vepIH78nex+CjLbqoLMakr/s+Hr9suC41SyiSzqhn3mSY2fVmdqKZvcLMVoXzPhomE8zs\nI2Z2spm9zsx6zOzfI+teZWavDKer44inkOr8oufxaqCi3A/i0pHF5dxe7RqvekoonwfeUDLvc+xr\nz3AFUO7sr2NKR6YH74kDxcoNK3lw14PMnjGbVQtWFbYNwDUv7bv2vdo1XhUTiqTTgTcBL5P0/shL\nhwIHJR2Yi1e5g/cFR12Q+cHbu/1wWfJq13hVq/J6KXAkQdJ5WWT6LfCu5ENzcSu9GiiLa/uLLtqA\nu/iWxX7jXcF5tWu8KpZQzGwEGJF0tZltBZAkYJqZPZNWgM7lRWkD7o7xHfkfLtdVVa3adXR0NNvg\nCqieNpT+8Gqs54FNwJGSrjCzTyUbmnP5Uq0B1xNKcXm1a3zquQ/ltRZ0v/JO4IcENxEuSzIo5/LI\nG3Cdq66ehHKQpBcRdNz4LQs6ctyTbFjOlZdl54F5vPTatZAWuNelnoQyQNB9/UzgJkmzgd2JRuVc\nGVl3le8NuC5RLdBFfs2EYmZrzOxoM3tr2EnYw8BZyYfm3P6yvgmt9Ma7zo7OXI6j4lxW6rlT/mWS\n/lHSd8NZrwL+NNmw3AQfH2KfPLRhRC+9HjpjyJOJa05/fzAk+MSw4BOPC1r9VU+V11rgJvb17ns/\n8D+SCsjtk3UVT954G4ZrOS02PHg9CWWWmf0TYUO8mT1HOzbKZ/APzrqKp1FJl6a8DcO5fKsnoTwT\njuFuAOEQwL+qvkoLyqDBLA9VPPVKozRVlLHgnZuUFugiv54bG1cA3wGOl3QTcAzBaIuumv5+mD+/\nqbcoUj9Dad305zehuZZV0GquqIollIku6s1sE9ADnAlcApxkZrelE17Gmmkwi6FEU6QqniKVppxz\nyahW5fX5iQdm9lszu93MbgtvbGwPGTeYFamKxxvMXdtrgRJGs7IcArj1lJRo5vf0NH0JYFHGCy9S\nacoVS2EunW+BGxObVa0N5XhJ6yu9aGbnNrtxSWcDnyYYAnjAzK4oef2DQC9Bx5SPAX9uZtvD114A\n7ggXfTCOeKqqp8Gsv39f8pAYHRlhfpPtKEXhg2W5JFQbote/W/lTLaE8Bvx9UhuWNJVg5Me3ENx9\n/3NJ683s7shivwDmmdmzkv4S+D/An4Sv/cbMTk0qvgN4cbYmbzB3cct9D8/9/fuXTCbaW/v62vKY\nUS2h/NrMbkpw26cDWyJjrQwRdEC5N6GEY7JMuAW4IMF44tUClwA6l7XcX+xRUiuxt721TVVrQxlL\neNvHAA9Fnj8czqvkIuD7kecvlrRJ0i2S3plEgE1pw7MT5+LmF3sUiyyjjCppEXC2mfWGzy8E3mhm\nF5dZ9gLgYuBMMxsP5x1jZo9IOh7YCCwwswfKrLscWA7Q2dnZPTQ0lNhnKrV7926mT5+e2vYaVSu+\n4R3DDGwbYOf4TmZ1zKJ3bm+qwwYXff9lrRXiG94xzOr7VjO+Z3zvvI4pHaw4cUXi38VG99+ctWsZ\nW7YsuYBKpPn/7enpudXM5tVc0MwymYA3ATdEnn8E+EiZ5RYC9xB0AVPpvdYCi2pts7u729I0MjKS\n6vYqGdw8aF1rukz9sq41XTa4edDMqsc3uHnQpq2aZvSzd5q2atreddOQl/1XicfXnHrjq/T9TVqr\n7L84AJusjuN6PXfKJ+XnwAmS5gKPAIsp6cVY0uuBfyQoyeyMzJ8JPGtm45KOBN5M0GDvSlS7SuaY\nKjWMuW8MdW3DL/YojrruQ5H0R5I+JenvJf1hHBs2s+cJqrFuICiBfN3M7pL0MUkTlwD/HTAd+GdJ\nt0UuY341sEnS7cAIcIXtf3WYC022g8ncN4Y653KnZglF0ueBVwJfC2f9haSFZva+ZjduZtcD15fM\n+2jkcdlKUjP7CXBKs9tvB5NNDEXqR8w5lw/1lFDOBN5mZleb2dXAHwDzE43KxWayV8nk9c73wtw1\n7Vwbqieh3AtEjz7HAZuTCcfFbbKJIY/9iPmAY64cP8nIj3oa5Y8A7pH0s/D5acDNE+0ZlnSXJ64p\n1bpEGR0drblunhpD/UIBV8q7ZsmXehLKR2sv4vIsb4lhsvxCAVfKTzLypWZCsWS7X3Gubn6hgCvl\nJxn5Um2ArR+Hf38t6VeR6deS2m8IYJe5vF4o4LLjXbPkS8WEYma/F/49xMwOjUyHmNmh6YXoXCCP\nFwq4bPlJRr7Udad82NV8Z3R5M/MypUtdq7QHuXj4ODx1ivaKnKB6bmz870AfsAPYE8424LUJxuWc\nc3Xxk4w6XH55KgmlnvtQLgF+x8xONrNTwsmTiXPOpaFAQ2HUk1AeAnYlHYhzzrkyJjtWfX9/MOjX\nxCiSE48TTFAVq7zC8dwBtgKjkr4H7B2UwMw+lVhUzjnnmpPBaJLVSiiHhNODwI3AwZF5hyQemXPO\ntasMShdxqFhCMbNJlrOcc841Je7SRV9fsxHVpWYbiqQbJR0WeT5T0g3JhtUmcn62UYl3xudcwaR0\nrKmnUf5lZvb0xBMzewqYlVxIbWSyjW0ZiqPHX09IzjUgpdJFHOpJKC9I2tuPgaQugvtQXBua7AiQ\nE7wLeucaVKCajHoSykrgx5K+KmkQ+BHwkWTDamExNbZldZbfbGd8zSYkVxxeEp2kAiWQUjUTipn9\nAHgDcC0wBHSbWSxtKJLOlnSvpC2SLivzeoeka8PXfyppTuS1j4Tz75X0tjjiSUV/f9DANtHINvG4\ngS9Rlmf5zXbG573DtgcviTahgFXhE+opoQD8LsGwv/OBM+LYcNg/2OeAc4CTgPMlnVSy2EXAU2b2\nSmAN8Mlw3ZOAxcDJwNnA58P3awtZnuU32xmf9w7bHrwk2p7qucrrCoLuV+4Op0sk/e8Ytn06sMXM\ntprZbwlKP+eVLHMesC58fB2wQJLC+UNmNm5m24At4fsVyyQb27I8y2+2x9/JJiSvPikWL4k2qKD3\nnZSS1bi+WdJm4FQz2xM+nwr8otn+vCQtAs42s97w+YXAG83s4sgyd4bLPBw+fwB4I9AP3GJmg+H8\nLwPfN7PrymxnObAcoLOzs3toaKiZsBuye/dupk+fHvv7Lr5lMTvGdxwwv7Ojk6Ez6v98ScVXy/CO\nYQa2DbBzfCezOmbRO7eXhZ0LK8Y3vGOY1fetZnzP3o4a6JjSwYoTV5RdLy1Z7b96ZRlfPd/RJOKb\ns3YtY8uWxfJeWe2/+T09jI6M1Fwuzfh6enpuNbN5NRc0s6oTsBk4PPL8cGBzrfXqeN9FwEDk+YXA\nZ0uWuRM4NvL8AeBI4LPABZH5XwYW1dpmd3e3pWlkZCSR9x3cPGjTVk0z+tk7TVs1zQY3D+YivrhM\nxNe1pmu/zzoxda3pykV8eZVlfPV8RxOJD2J7q8z2X52fIc34gE1Wx3G9njaUvwV+IWmtpHXArUAc\no9c8AhwXeX5sOK/sMpJeBMwAnqhz3ZbVbgNNefVJ8bTbdzRWBbrvpFTV8VDC9oofEzTEnxbO/rCZ\n/TKGbf8cOEHSXIJksBj405Jl1gNLgZsJSjQbzcwkrQf+SdKngKOBE4CfxRBTYbTUGBA1Bv/xseSL\nKbXvaH///ldGTbRD9PUVrg0CKGbMoaollLCo8y0ze9TM1odTHMkEM3seuBi4AbgH+LqZ3SXpY5LO\nDRf7MnCEpC3AB4HLwnXvAr5OcJHAD4D3mdkLccRVCAX+wpVV4zJJH+bVVRXDpfguHvUMAXyLpNPM\n7Odxb9zMrgeuL5n30cjj/wTeVWHdVcRT9VY8KY2+lhc+zKtzxVBPG0oPcLOkByRtlnRHeOWXa1Qb\nJYGaGrxMcskpSxi7dIw9fXsYu3TMk4krL4/tD230u68noZwDvAI4C3gH8Pbwr2tUM3fAtsh16nt5\nNYVLQh6/PwW+871R9SSUo4AnzWy7mW0HngJenmxY7gB+AHbO5Vw9CeULwO7I893hPFePVitZJCGP\n1RTONaNNf/f1NMorvNoLADPbE94T4uqRxLjOrXYAbvEfmWtDGYznngf1lFC2Snq/pIPC6RJga9KB\nuSqSPAD7wd05N0n1JJT3EvQ2/AjwMEFfWsuTDKplFaFk0UYNiK715LIT0SL87mNSs+rKzHYS3MXu\nmuVn/84lZmIMlolu8yfGYAGyvcy8jX73FUsokv5n+PcfJH2mdEovRJe4Nm1ATFouz5ZbmI/Bkr1q\nJZR7wr+b0gjEZahNGxCTlNuz5RbmnYhmr2IJxcy+E/5dV25KL0Tn0hFnicLPlveXRmmt2dFAS2Mc\n3jEcZ3htoVqV1/pqU5pBuhQl3ICY12qguMdA97PlfSrt27gP2M10IlouxtX3rc7N97Moql3l9SaC\ncUb+FVgN/H3J5FpRgu0mcR+04xR3iaLZs+VWUmnfDmwbiHU7zYzBUi7G8T3jbVuinKxqCeXlwP8C\nXgN8GngL8LiZ3WRmN6URXNtq0cbwRg/awzuGUyvNxF2i8C7396m0D3eO74x9W5PtRDSTEmUL/s6r\ntaG8YGY/MLOlBANsbQFGJV1caR0Xkxa9F6SRH+01d1zD6vtWp1aaibtE4SMW7lNpH87qmJVyJJVl\nUqJswd951RsbJXVI+iNgEHgf8Bngm2kE5lpPIz/alRtWMr5nfL95STZqJ1GiyGOX+1m0YVXat71z\nexPfdr3KxdgxpaMtS5TNqNYo/xWCoXffAFxuZqeZ2cfNrG3Gbk9VG9wL0shBO+0qiHYoUWTVhlVp\n3y7sXJjodhtRLsYVJ66I///f4r9zWYV7DiTtAZ4Jn0YXEsHowIdOeqPS4cC1wBxgDHi3mT1Vssyp\nBL0aHwrVXJL2AAAUSklEQVS8AKwys2vD19YCZwK7wsWXmdlttbY7b94827QpvdtqRkdHmT9/fuMr\npnQvyKTja8I1d1xT18iLc66cU3Yc+a4ZXYxdOpZCpLVlsf8aURpf3vZp3Puv3u9WVvEdoMnfeZrf\nP0m3mtm8WstVa0OZYmaHhNOhkemQZpJJ6DJgg5mdAGwIn5d6FniPmZ0MnA1cKemwyOsfMrNTw6lm\nMslMi5x5VNTg56u3GmjVglV0TOnYb167NmrHpZUvZc7zFYTtpJ7OIZNwHjBxc+Q64J2lC5jZfWZ2\nf/j4P4CdwMtSizAuk2l4K1Jncgk1LC45ZQkrTlzR0lVQaWvlS5kLeSNpkX7ndapY5ZXoRqWnzeyw\n8LGApyaeV1j+dILEc3I4HstagvtkxglLOGY2XmHd5YS9I3d2dnYPDQ3F+lmq2b17N29/xzsYHRlJ\nbZuN2L17N9OnT69r2eEdwwxsG2Dn+E5mdcyid24vCzsXMr+nJ7HP10h85VSKOS/xJa00vuEdw6y+\nb/V+Fzt0TOlgxYkrMmnPiHP/nXXTWRgHHsuE2Hjmxkm9Z9H+v0nq6empq8oLM0tkAoaBO8tM5wFP\nlyz7VJX3OQq4FzijZJ6ADoJE89F6Yuru7rZU9PVNDNC7/9TXl8726zQyMlLXcoObB23aqmlGP0Y/\n1ndmmc+WwOerN75ySmOmH5u2apoNbh7MRXxpKBff4OZB61rTZeqXda3pinV/NCrO/de1pmu///XE\n1LWmKxfxJSHN+IBNVscxNrGRF82s4imPpB2SjjKzRyUdRVCdVW65Q4HvASvN7JbIez8aPhyXdDWw\nIsbQmxd2tjg6Osr8np7Cd7ZYWp1weU8wdc3oYuwD23P5+apVgbRztdmSU5a05OdftWDVfp1xgre5\nZSGrNpT1wNLw8VLg26ULSDqY4J6Xr5jZdSWvHRX+FUH7y52JRtvK6mhUL2JjbhFjdpPXDpd9F0FW\nY8NfAXxd0kXAduDdAJLmAe81s95w3u8DR0haFq43cXnwNZJeRlDtdRvBqJL5lPeGt8svr5lUZs+Y\nXfZy09kzZkPfsmTialLVmF1LatXSV5FkklDM7AlgQZn5m4De8PEgwR365dY/K9EA49QClw1XrU7I\n6Q/Yq0CcS19WVV4uS+HduvN7eoLnNe7WLWJ1QhFjdq7osqryclmaxEUDRaxOKGLMzhWZl1Ccc87F\nwhNKu8v7RQPOucLwhNLuWuCigYpa+bO5/GvD758nFNe6WnAAI1cgbfj984TinHMuFp5QXGupMIDR\n5r/8o0RGKsxiBESXYy0+gFYtnlBc4/L84+jv39ddJYAZ12we5E3H3RD7WBnDO4ZzMwaHJ7acKPP9\nwyzfv5kYeUIpsqy+pAWrG05qrIyBbQO5GIOj0uBSwzuGU42jqjY5oLY7TyhFVrADe+rCS6KT6ihy\n53jZTrJT74CyUsIc2DaQahxVteN3tQ0vyfeE4upTxLrhMLakRiqc1TErkfdtVKUEVinhuZTk+beR\nEE8oRZPVgb3AdcOrFqziEz/av5ehODqK7J3by7SDpsX+vo2qlMAqJbzUFPEkxDXFE0rRFPjAnpUl\npyxh5cbnY+8ocmHnwlx0QLlqwaqyia13bm+qcRzAv6ttxzuHdI0raN3w2KVjsb9nHjqgnNj+yg0r\neXDXg8yeMZtVC1ZxzBPHZBqXaz9eQimyrA7sRTnDbKMqlyWnLGHs0jH29O1h7NKxzJPcAQp6EuIa\n4yWUImvBA2Oswm76gSCR1NFNv0uIf1fbQiYlFEmHS7pR0v3h35kVlntB0m3htD4yf66kn0raIuna\ncPx555xzGcqqyusyYIOZnQBsCJ+X8xszOzWczo3M/ySwxsxeCTwFXJRsuK7wvMrFucRllVDOA9aF\nj9cB76x3RUkCzgKum8z6rk3lvMrFu05xrSCrhNJpZo+Gj38JdFZY7sWSNkm6RdJE0jgCeNrMng+f\nPwz45SyusCp1ndJOSaVlEmrOT1ySJkuooVLSMPDyMi+tBNaZ2WGRZZ8yswPaUSQdY2aPSDoe2Ags\nAHYBt4TVXUg6Dvi+mb2mQhzLgeUAnZ2d3UNDQ01+svrt3r2b6dOnp7a9Rnl8zYkrvsW3LGbH+I4D\n5nd2dDJ0xuS/r3nYf8M7hhnYNsDO8Z3M6phF79xeFnYu3C++4R3DrL5vNeN7xveu1zGlgxUnrti7\nbFIxVDOZ/Te/p4fRkZHJhtqQNP+/PT09t5rZvFrLJZZQqm5UuheYb2aPSjoKGDWz36mxzlrgu8C/\nAI8BLzez5yW9Ceg3s7fV2u68efNs06ZNzX+AOo2OjjJ//vzUttcoj685ccU35fIpGAf+DoXY07dn\n0u+b9f6bKHlF+xmbdtC0vTd/TsQ358o5bN+1/YD1u2Z0NX3vUK0YqpnU/kvxasI0/7+S6kooWVV5\nrQeWho+XAt8uXUDSTEkd4eMjgTcDd1uQAUeARdXWd64okuprLGv19vKcVOedjcTQlDa636mWrBLK\nFcBbJN0PLAyfI2mepIkuUl8NbJJ0O0ECucLM7g5f+zDwQUlbCNpUvpxq9M7FqFLXKWn3CVZLo+0c\n9SaKJBNqYskqmiy8i5m9MkkoZvaEmS0wsxPMbKGZPRnO32RmveHjn5jZKWb2uvDvlyPrbzWz083s\nlWb2LjMbr7Qt5/JuySlLctEnWDWTuXCg3kSRZEJNLFm1Y3f8dfCuV5yrJMUzzLJdp2R9hhvZ/mSq\njupNFEkm1NRLf21+v5MnFOcqyfosNEfbn0zVUSOJYsm/3J9IX2SxJqt62kqyPgnImPfl5VzBXHPH\nNQf0LJx09djsGbPLXolVq+qo7t6YL788sYNxbD1Ce99wNXkJxbmorK/YqbH9xG+CrLD99fe+oRAX\nDrhseUJxLirrK3ZqbD/xy2ArbP+1X/hG7O0cc9auLe7ltm3eVlKJV3k5VyBJ3rNRS9yDiY0tWxYk\nFSheFVIRkl4GvITi8i+rH2/WZ6Fltp/qTZBZf35XOJ5QXP5ldbVT1mehZbaf6mWwaX5+T14twROK\ncwVShJsgJyXr5O1i4W0oLp/6+5kfLZlMNNz29bX9wSfutgzn4uIJxeVTfz+j8+cHvakWrcHWuTbl\nVV7OOedi4QnF5Z832DpXCJ5QXP61eZuJc0XhCcU551wsPKE455yLhScU55xzsfCE4pwrHm9Xy6VM\nEoqkwyXdKOn+8O/MMsv0SLotMv2npHeGr62VtC3y2qnpfwrnJskPhs3LevAxV1ZWJZTLgA1mdgKw\nIXy+HzMbMbNTzexU4CzgWeCHkUU+NPG6md2WStTOxcEPhq5FZZVQzgPWhY/XAe+ssfwi4Ptm9myN\n5ZxztRS1hJT14GeuJlkGXVpIetrMDgsfC3hq4nmF5TcCnzKz74bP1wJvAsYJSzhmNl5h3eXAcoDO\nzs7uoaGhOD9KVbt372b69Ompba9RHl9zGolvztq1zFm37oD5Y0uXMrZsWcyRBSrFN7+nh9GRkUS2\n2Yhm/r9pfIZW+v41q6en51Yzm1dzQTNLZAKGgTvLTOcBT5cs+1SV9zkKeAw4qGSegA6CEs5H64mp\nu7vb0jQyMpLq9hrl8TVn0vFBrHFUUjG+lLZfS1P/3xQ+Q8t+/yYB2GR1HGMTq/Iys4Vm9poy07eB\nHZKOAgj/7qzyVu8Gvmlmz0Xe+9Hwc44DVwOnJ/U5nGsJrVZd5N3x5FJWbSjrgaXh46XAt6ssez7w\nteiMSDISQfvLnQnE6FwysjgY1hirvnCKGneLyyqhXAG8RdL9wMLwOZLmSRqYWEjSHOA44KaS9a+R\ndAdwB3Ak8IkUYnYuHn4wdC0qk/FQzOwJYEGZ+ZuA3sjzMeCYMsudlWR8zrU0ry5yCfE75Z1rN15C\ncgnxhOKccy4WnlCcc87FwhOKc865WHhCcc45FwtPKM4552KRSV9eWZH0GLA9xU0eCTye4vYa5fE1\nx+NrjsfXnDTj6zKzl9VaqK0SStokbbJ6OlTLiMfXHI+vOR5fc/IYn1d5Oeeci4UnFOecc7HwhJKs\nL2UdQA0eX3M8vuZ4fM3JXXzehuKccy4WXkJxzjkXC08ozjnnYuEJpUmSDpd0o6T7w78zyyzTI+m2\nyPSfkt4ZvrZW0rbIa6emHV+43AuRGNZH5s+V9FNJWyRdK+ngtOOTdKqkmyXdJWmzpD+JvJbI/pN0\ntqR7w899WZnXO8L9sSXcP3Mir30knH+vpLfFEU+DsX1Q0t3hvtogqSvyWtn/cwYxLpP0WCSW3shr\nS8Pvw/2Slpaum1J8ayKx3Sfp6chrie5DSVdJ2imp7MCBCnwmjH2zpDdEXkt831VVzzjBPlWegP8D\nXBY+vgz4ZI3lDweeBKaFz9cCi7KOD9hdYf7XgcXh4y8Cf5l2fMCJwAnh46OBR4HDktp/wFTgAeB4\n4GDgduCkkmX+Cvhi+HgxcG34+KRw+Q5gbvg+U1OOrSfy/frLidiq/Z8z2H/LgM+WWfdwYGv4d2b4\neGba8ZUs/9+Bq9Lah8DvA28A7qzw+h8A3wcEnAH8NK19V2vyEkrzzgPWhY/XEQxJXM0i4Ptm9myi\nUe3TaHx7SRJwFnDdZNavU834zOw+M7s/fPwfwE6g5l27TTgd2GJmW83st8BQGGdUNO7rgAXh/joP\nGDKzcTPbBmwJ3y+12MxsJPL9ugU4NsbtxxJjFW8DbjSzJ83sKeBG4OyM4ztgGPIkmdmPCE46KzkP\n+IoFbgEOUzAsehr7ripPKM3rNLNHw8e/BDprLL+YA7+cq8Ki6xpJHRnF92JJmyTdMlEdBxwBPG1m\nz4fPH6bMCJopxQeApNMJziofiMyOe/8dAzwUeV7uc+9dJtw/uwj2Vz3rJh1b1EUEZ7MTyv2f41Zv\njH8c/t+uk3Rcg+umER9hdeFcYGNkdhr7sJpK8aex76rKZAjgopE0DLy8zEsro0/MzCRVvA47PIs4\nBbghMvsjBAfSgwmuK/8w8LEM4usys0ckHQ9slHQHwUGyaTHvv68CS81sTzi76f3XqiRdAMwDzozM\nPuD/bGYPlH+HRH0H+JqZjUv6C4LSXh6H9l4MXGdmL0Tm5WUf5o4nlDqY2cJKr0naIekoM3s0PODt\nrPJW7wa+aWbPRd574ux8XNLVwIos4jOzR8K/WyWNAq8H/oWgOP2i8Cz8WOCRLOKTdCjwPWBlWMyf\neO+m918ZjwDHRZ6X+9wTyzws6UXADOCJOtdNOjYkLSRI2Gea2fjE/Ar/57gPhjVjNLMnIk8HCNrS\nJtadX7LuaNrxRSwG3hedkdI+rKZS/Gnsu6q8yqt564GJqymWAt+usuwBdbHhQXSiveKdQNkrO5KM\nT9LMiaoiSUcCbwbutqClb4Sg3afi+inEdzDwTYJ64+tKXkti//0cOEHBFW4HExxUSq/mica9CNgY\n7q/1wGIFV4HNBU4AfhZDTHXHJun1wD8C55rZzsj8sv/nGGNrJMajIk/PBe4JH98AvDWMdSbwVvYv\n0acSXxjjqwgat2+OzEtrH1azHnhPeLXXGcCu8MQqjX1XXZpXALTiRFBvvgG4HxgGDg/nzwMGIsvN\nITiDmFKy/kbgDoID4SAwPe34gN8NY7g9/HtRZP3jCQ6IW4B/BjoyiO8C4Dngtsh0apL7j+BKmvsI\nzjxXhvM+RnCQBnhxuD+2hPvn+Mi6K8P17gXOSeA7Vyu2YWBHZF+tr/V/ziDGvwXuCmMZAV4VWffP\nw/26BfizLOILn/cDV5Ssl/g+JDjpfDT8zj9M0A72XuC94esCPhfGfgcwL819V23yrlecc87Fwqu8\nnHPOxcITinPOuVh4QnHOORcLTyjOOedi4QnFOedcLDyhuLYgySQNRp6/SEFvt98Nn5+rMr3Oxrj9\nfkllb7qU9JMG3uebCnq53SJpl/b1evu7DcZzVngPQ7nXTlbQu/O4pEsbeV/X3vxOedcungFeI+kl\nZvYb4C1E7o42s/WUubmtnPAmStm+7l+aYmZ1JwMz+8MwhvnACjN7+yQ3exbwOEHnkaUeJ+hhd1GZ\n15yryEsorp1cD/zX8PF+vRYoGJ/js+HjzrAkcHs4/a6kOZLukfR54N+A4ySdL+kOSXdK+mTkvc6W\n9G/huhsi2z9J0qikrZLeH1l+d/h3vqQfhdu+W9IXJdX9G5V0mqSbJN0q6fuSOsP5H9C+8VEGJb0C\n6AU+VK50Y2Y7zGwT8HyZzThXkZdQXDsZAj4aVnO9FrgK+C9llvsMcJOZ/aGkqcB0gi44fofg7uO/\nknQ08EmgG3gK+KGCnmf/H/B/gd83s22SDo+876sIxio5BLhX0hcs0q9b6HSCMVW2Az8A/oh9wwdU\nFHYH8mmCO70fl7QE+DiwHPifBB0a/lbSYWb2tKQB4HEzu7LWeztXL08orm2Y2WYFIyueT1BaqeQs\n4D3hOi8Au8K+kbbbvo4pTwNGzewxAEnXEAyM9ALwIwvGQsHMouNafM+CjhrHJe0k6Kr/4ZJt/8zM\ntobv+TXg96gjoQCvBk4GhoMaOaZG3vsuYFDSt4Fv1fFezk2KJxTXbtYDqwl6ZT2iwXWfaXLb45HH\nL1D+91faF1K9fSMJ2Gxm5UpcbyPowv484K8lvabO93SuId6G4trNVcDlZnZHlWU2EAydi6SpkmaU\nWeZnwJmSjgyrxc4HbiJo5P79sKdhSqq86nF62AvuFOBPgB/Xud7dwDEKBiBD0sHh1VpTgWPNbCPw\nIYKRLqcBvyaoenMuNp5QXFsxs4fN7DM1FrsE6FEwyNitBG0ape/zKHAZQU+5twO3mtm3wyqw5cA3\nJN0OXNtgiDcDVxD0nryNoNv+msKqtEXApyRtBn4BvJGgFPRP4bx/Az5pZr8mGCbg3ZJ+UdooL+lY\nSQ8D7wf6JT0saVqDn8O1Ie9t2LmciOFSYOcy5SUU55xzsfASinPOuVh4CcU551wsPKE455yLhScU\n55xzsfCE4pxzLhaeUJxzzsXi/wNd8GLFBvxxQQAAAABJRU5ErkJggg==\n",
      "text/plain": [
       "<matplotlib.figure.Figure at 0x12934b70>"
      ]
     },
     "metadata": {},
     "output_type": "display_data"
    }
   ],
   "source": [
    "data = np.loadtxt('microchip_tests.csv', delimiter=',')\n",
    "\n",
    "# Filter data based on last column value\n",
    "passed = data[np.where(data[:,2] == 1)]\n",
    "failed = data[np.where(data[:,2] == 0)]\n",
    "\n",
    "plt.plot(passed[:, 0], passed[:, 1], 'go')\n",
    "plt.plot(failed[:, 0], failed[:, 1], 'r+')\n",
    "\n",
    "plt.grid(True)\n",
    "plt.xlabel('Microchip Test 1')\n",
    "plt.ylabel('Microchip Test 2')\n",
    "plt.title('Microchip Tests')\n",
    "plt.show()"
   ]
  },
  {
   "cell_type": "markdown",
   "metadata": {
    "collapsed": false,
    "deletable": true,
    "editable": true
   },
   "source": [
    "## Hypothesis\n",
    "\n",
    "$ h_\\theta(x) = g(\\theta_0 * x_0 + \\theta_1 * x_1 + \\theta_2 * x_2 + \\theta_3 * x_1^2*x_2+ ... + \\theta_n * x_1^n*x_2^n) $\n",
    "\n",
    ",where:\n",
    "\n",
    "$ x_0 = 1 $ (used to make math easier)\n",
    "\n",
    "$ x_1 $ - Microchip Test 1\n",
    "\n",
    "$ x_2 $ - Microchip Test 2\n",
    "\n",
    "$ n $ - Degree of features polynomial\n",
    "\n",
    "$ g(z) = \\frac{1}{1+e^{-z}} $ - Sigmoid function"
   ]
  },
  {
   "cell_type": "code",
   "execution_count": 4,
   "metadata": {
    "collapsed": false,
    "deletable": true,
    "editable": true
   },
   "outputs": [],
   "source": [
    "def map_features(x, degree=6):\n",
    "    \"\"\"Map features to polynomial features.\"\"\"\n",
    "    features_count = sum(xrange(2, degree+2))\n",
    "    ret = np.ones((x.shape[0], features_count))\n",
    "\n",
    "    x1 = x[:, 0]\n",
    "    x2 = x[:, 1]\n",
    "\n",
    "    col = 0\n",
    "    for i in xrange(1, degree+1):\n",
    "        for j in xrange(0, i+1):\n",
    "            temp = np.power(x1, i-j) * np.power(x2, j)\n",
    "            ret[:, col] = temp\n",
    "            col += 1\n",
    "    \n",
    "    return ret"
   ]
  },
  {
   "cell_type": "code",
   "execution_count": 5,
   "metadata": {
    "collapsed": false,
    "deletable": true,
    "editable": true
   },
   "outputs": [],
   "source": [
    "def cost_function(theta, x, y, l=0):\n",
    "    m = x.shape[0]\n",
    "    h = sigmoid(theta.T.dot(x.T)).T\n",
    "    h = np.asarray(h)\n",
    "\n",
    "    y = y.reshape(h.shape)\n",
    "    \n",
    "    theta = theta.ravel()\n",
    "    \n",
    "    reg = ((1.0 * l) / (2 * m)) * np.sum(np.power(theta[1:], 2))\n",
    "    J = (1.0 / m) * (((-1 * y.T).dot(np.log(h))) - ((1 - y.T).dot(np.log(1 - h))))\n",
    "    J += reg\n",
    "    \n",
    "    grad = (1.0 / m) * ((h - y).T.dot(x))\n",
    "    grad = grad.ravel()       \n",
    "        \n",
    "    grad_0 = grad[0]\n",
    "    reg = (((1.0 * l) / m) * theta.ravel()).T\n",
    "    grad += reg\n",
    "    grad[0] = grad_0\n",
    "    \n",
    "    return (np.sum(J), grad)"
   ]
  },
  {
   "cell_type": "code",
   "execution_count": 6,
   "metadata": {
    "collapsed": false,
    "deletable": true,
    "editable": true
   },
   "outputs": [],
   "source": [
    "# Prepare training and cross validation data\n",
    "passed_size = passed.shape[0]\n",
    "failed_size = failed.shape[0]\n",
    "\n",
    "training_size = 0.75\n",
    "\n",
    "passed_train = passed[0:int(training_size * passed_size)]\n",
    "passed_cv = passed[int(training_size * passed_size):]\n",
    "\n",
    "failed_train = failed[0:int(training_size * failed_size)]\n",
    "failed_cv = failed[int(training_size * failed_size):]\n",
    "\n",
    "assert np.array_equal(passed, np.concatenate((passed_train, passed_cv), axis=0))\n",
    "assert np.array_equal(failed, np.concatenate((failed_train, failed_cv), axis=0))"
   ]
  },
  {
   "cell_type": "code",
   "execution_count": 7,
   "metadata": {
    "collapsed": false,
    "deletable": true,
    "editable": true
   },
   "outputs": [],
   "source": [
    "# Training data\n",
    "train = np.concatenate((passed_train, failed_train), axis=0)\n",
    "train_x = np.array(train[:, :2])\n",
    "train_x = map_features(train_x)\n",
    "\n",
    "# Add extra column of 1's at the begining - for bias (theta_0)\n",
    "temp_array = np.ones((train_x.shape[0], train_x.shape[1] + 1))\n",
    "temp_array[:, 1:] = train_x\n",
    "train_x = temp_array\n",
    "\n",
    "train_y = train[:, 2]\n",
    "\n",
    "# Cross validation data\n",
    "cv = np.concatenate((passed_cv, failed_cv), axis=0)\n",
    "cv_x = np.array(cv[:, :2])\n",
    "cv_x = map_features(cv_x)\n",
    "\n",
    "# Add extra column of 1's at the begining - for bias (theta_0)\n",
    "temp_array = np.ones((cv_x.shape[0], cv_x.shape[1] + 1))\n",
    "temp_array[:, 1:] = cv_x\n",
    "cv_x = temp_array\n",
    "\n",
    "cv_y = cv[:, 2]"
   ]
  },
  {
   "cell_type": "code",
   "execution_count": 8,
   "metadata": {
    "collapsed": false,
    "deletable": true,
    "editable": true
   },
   "outputs": [],
   "source": [
    "# Initial cost\n",
    "theta = np.random.rand(train_x.shape[1],1)\n",
    "l = 0  # No regularization\n",
    "\n",
    "J, grad = cost_function(theta, train_x, train_y, l)\n",
    "\n",
    "J_arr = []\n",
    "n = 0\n",
    "\n",
    "alpha = 15\n",
    "while J > 0.01 and n < 10000:\n",
    "    J_arr.append(J)\n",
    "    theta = (theta.T - alpha * grad).T\n",
    "    \n",
    "    J, grad = cost_function(theta, train_x, train_y, l)\n",
    "    n += 1\n"
   ]
  },
  {
   "cell_type": "code",
   "execution_count": 9,
   "metadata": {
    "collapsed": false,
    "deletable": true,
    "editable": true
   },
   "outputs": [
    {
     "data": {
      "image/png": "iVBORw0KGgoAAAANSUhEUgAAAYwAAAEWCAYAAAB1xKBvAAAABHNCSVQICAgIfAhkiAAAAAlwSFlz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\n",
      "text/plain": [
       "<matplotlib.figure.Figure at 0x12a3c930>"
      ]
     },
     "metadata": {},