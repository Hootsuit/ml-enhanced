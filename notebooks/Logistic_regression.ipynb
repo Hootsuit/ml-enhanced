
{
 "cells": [
  {
   "cell_type": "markdown",
   "metadata": {
    "deletable": true,
    "editable": true
   },
   "source": [
    "# Logistic regression\n",
    "\n",
    "## Logistic regression model\n",
    "$ h_\\theta(x) = g(\\theta^{\\intercal}x) $\n",
    "\n",
    "where: $ g(z) = \\frac{1}{1+e^{-z}} $; $z = \\theta^{\\intercal}x $\n",
    "\n",
    "$ h_\\theta(x) = \\frac{1}{1+e^{-\\theta^{\\intercal}x}} $\n",
    "\n",
    "## Cost function (with regularization)\n",
    "$ J(\\theta) = \\frac{1}{m} \\sum_{i=1}^{m} [-y^{(i)}log(h_\\theta(x^{(i)})) - (1 - y^{(i)})log(1 - h_\\theta(x^{(i)}))] + \\frac{\\lambda}{2m}\\sum_{j=1}^{n}\\theta_j^2$\n",
    "\n",
    "## Gradient descent (with regularization)\n",
    "\n",
    "repeat until convergence {\n",
    "\n",
    ">$ \\theta_j = \\theta_j - \\alpha \\frac{\\partial}{\\partial \\theta_j} J(\\theta) $\n",
    "\n",
    "}\n",
    "\n",
    "$ \\frac{\\partial}{\\partial \\theta_0} J(\\theta) = \\frac{1}{m} \\sum_{i=1}^{m} (h_\\theta(x^{(i)}) - y^{(i)}) x_j^{(i)} $ for j = 0 \n",
    "\n",
    "$ \\frac{\\partial}{\\partial \\theta_j} J(\\theta) = ( \\frac{1}{m} \\sum_{i=1}^{m} (h_\\theta(x^{(i)}) - y^{(i)}) x_j^{(i)} ) + \\frac{\\lambda}{m} \\theta_j $ for j >= 1"
   ]
  },
  {
   "cell_type": "code",
   "execution_count": 1,
   "metadata": {
    "collapsed": false,
    "deletable": true,
    "editable": true
   },
   "outputs": [],
   "source": [