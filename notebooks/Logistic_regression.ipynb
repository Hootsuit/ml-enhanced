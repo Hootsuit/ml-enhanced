
{
 "cells": [
  {
   "cell_type": "markdown",
   "metadata": {
    "deletable": true,
    "editable": true
   },
   "source": [
    "# Logistic regression\n",
    "\n",
    "## Logistic regression model\n",
    "$ h_\\theta(x) = g(\\theta^{\\intercal}x) $\n",
    "\n",
    "where: $ g(z) = \\frac{1}{1+e^{-z}} $; $z = \\theta^{\\intercal}x $\n",
    "\n",
    "$ h_\\theta(x) = \\frac{1}{1+e^{-\\theta^{\\intercal}x}} $\n",
    "\n",
    "## Cost function (with regularization)\n",
    "$ J(\\theta) = \\frac{1}{m} \\sum_{i=1}^{m} [-y^{(i)}log(h_\\theta(x^{(i)})) - (1 - y^{(i)})log(1 - h_\\theta(x^{(i)}))] + \\frac{\\lambda}{2m}\\sum_{j=1}^{n}\\theta_j^2$\n",
    "\n",
    "## Gradient descent (with regularization)\n",
    "\n",
    "repeat until convergence {\n",
    "\n",
    ">$ \\theta_j = \\theta_j - \\alpha \\frac{\\partial}{\\partial \\theta_j} J(\\theta) $\n",
    "\n",
    "}\n",
    "\n",
    "$ \\frac{\\partial}{\\partial \\theta_0} J(\\theta) = \\frac{1}{m} \\sum_{i=1}^{m} (h_\\theta(x^{(i)}) - y^{(i)}) x_j^{(i)} $ for j = 0 \n",
    "\n",
    "$ \\frac{\\partial}{\\partial \\theta_j} J(\\theta) = ( \\frac{1}{m} \\sum_{i=1}^{m} (h_\\theta(x^{(i)}) - y^{(i)}) x_j^{(i)} ) + \\frac{\\lambda}{m} \\theta_j $ for j >= 1"
   ]
  },
  {
   "cell_type": "code",
   "execution_count": 1,
   "metadata": {
    "collapsed": false,
    "deletable": true,
    "editable": true
   },
   "outputs": [],
   "source": [
    "from scipy import optimize\n",
    "import numpy as np\n",
    "import matplotlib.pyplot as plt\n",
    "%matplotlib inline"
   ]
  },
  {
   "cell_type": "code",
   "execution_count": 2,
   "metadata": {
    "collapsed": false,
    "deletable": true,
    "editable": true
   },
   "outputs": [
    {
     "data": {
      "image/png": "iVBORw0KGgoAAAANSUhEUgAAAYUAAAEWCAYAAACJ0YulAAAABHNCSVQICAgIfAhkiAAAAAlwSFlz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\n",
      "text/plain": [
       "<matplotlib.figure.Figure at 0x1280e410>"
      ]
     },
     "metadata": {},
     "output_type": "display_data"
    }
   ],
   "source": [
    "def sigmoid(x):\n",
    "    return 1.0 / (1 + np.exp(-1 * x))\n",
    "\n",
    "x = [0.1 * x for x in xrange(-100, 100)]\n",
    "y = map(sigmoid, x)\n",
    "\n",
    "plt.plot(x, y)\n",
    "\n",
    "plt.grid(True)\n",
    "plt.xlabel('X')\n",
    "plt.ylabel('Y')\n",
    "plt.title('Sigmoid')\n",
    "plt.show()"
   ]
  },
  {
   "cell_type": "code",
   "execution_count": 3,
   "metadata": {
    "collapsed": false,
    "deletable": true,
    "editable": true
   },
   "outputs": [
    {