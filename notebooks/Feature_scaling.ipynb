{
 "cells": [
  {
   "cell_type": "markdown",
   "metadata": {
    "deletable": true,
    "editable": true
   },
   "source": [
    "# Feature_scaling\n",
    "\n",
    "*Feature scaling is a method used to standardize the range of independent variables or features of data. In data processing, it is also known as data normalization and is generally performed during the data preprocessing step.* - Wikipedia\n",
    "\n",
    "## Rescaling\n",
    "\n",
    "$ x^{\\prime} =  \\frac{x - min(x)}{max(x) - min(x)} $"
   ]
  },
  {
   "cell_type": "code",
   "execution_count": 1,
   "metadata": {
    "collapsed": true,
    "deletable": true,
    "editable": true
   },
   "outputs": [],
   "source": [
    "import numpy\n",
    "\n",
    "d = [-3, -2, -1, 0, 1, 2, 3, 4, 5]"
   ]
  },
  {
   "cell_type": "code",
   "execution_count": 2,
   "metadata": {
    "collapsed": false,
    "deletable": true,
    "editable": true
   },
   "outputs": [
    {
     "data": {
      "text/plain": [
       "[0.0, 0.125, 0.25, 0.375, 0.5, 0.625, 0.75, 0.875, 1.0]"
      ]
     },
     "execution_count": 2,
     "metadata": {},
     "output_type": "execute_result"
    }
   ],
   "source": [
    "def rescale(data):\n",
    "    \"\"\"Rescale date between <0, 1>.\"\"\"\n",
    "    x_min = min(data)\n",
    "    x_max = max(data)\n",
    "    \n",
    "    x_prim = map(lambda x: 1.0 * (x-x_min) / (x_max - x_min), data)\n",
    "    return x_prim\n",
    "\n",
    "rescale(d)"
   ]
  },
  {
   "cell_type": "code",
   "execution_count": 3,
   "metadata": {
    "collapsed": false,
    "deletable": true,
    "editable": true
   },
   "outputs": [
    {
     "data": {
      "text/plain": [
       "[-1.0, -0.75, -0.5, -0.25, 0.0, 0.25, 0.5, 0.75, 1.0]"
      ]
     },
     "execution_count": 3,
     "metadata": {},
     "output_type": "execute_result"
    }
   ],
   "source": [
    "def rescale_2(data):\n",
    "    \"\"\"Rescale date between <-1, 1>.\"\"\"\n",
    "    x_min = min(data)\n",
    "    x_max = max(data)\n",
    "    \n",
    "    x_prim = map(lambda x: 2.0 * (x-x_min) / (x_max - x_min) -1, data)\n",
    "    return x_prim\n",
    "\n",
    "rescale_2(d)"
   ]
  },
  {
   "cell_type": "markdown",
   "metadata": {
    "deletable": true,
    "editable": true
   },
   "source": [
    "## Mean normalization\n",
    "\n",
    "$ x^{\\prime} =  \\frac{x - mean(x)}{max(x) - min(x)} $"
   ]
  },
  {
   "cell_type": "code",
   "execution_count": 4,
   "metadata": {
    "collapsed": false,
    "deletable": true,
    "editable": true
   },
   "outputs": [
    {
     "data": {
      "text/plain": [
       "[-0.5, -0.375, -0.25, -0.125, 0.0, 0.125, 0.25, 0.375, 0.5]"
      ]
     },
     "execution_count": 4,
     "metadata": {},
     "output_type": "execute_result"
    }
   ],
   "source": [
    "def mean_normalization(data):\n",
    "    x_mean = numpy.mean(data)\n",
    "    x_min = min(data)\n",
    "    x_max = max(data)\n",
    "    \n",
    "    x_prim = map(lambda x: 1.0 * (x-x_mean) / (x_max - x_min), data)\n",
    "    return x_prim\n",
    "\n",
    "mean_normalization(d)"
   ]
  },
  {
   "cell_type": "markdown",
   "metadata": {
    "collapsed": true,
    "deletable": true,
    "editable": true
   },
   "source": [
    "## Standard deviation normalization\n",
    "$ x^{\\prime} =  \\frac{x - mean(x)}{std(x)} $"
   ]
  },
  {
   "cell_type": "code",
   "execution_count": 5,
   "metadata": {
    "collapsed": false
   },
   "outputs": [
    {
     "data": {
      "text/plain": [
       "[-1.5491933384829668,\n",
       " -1.1618950038622251,\n",
       " -0.7745966692414834,\n",
       " -0.3872983346207417,\n",
       " 0.0,\n",
       " 0.3872983346207417,\n",
       " 0.7745966692414834,\n",
       " 1.1618950038622251,\n",
       " 1.5491933384829668]"
      ]
     },
     "execution_count": 5,
     "metadata": {},
     "output_type": "execute_result"
    }
   ],
   "source": [
    "def std_normalization(data):\n",
    "    x_mean = numpy.mean(data)\n",
    "    x_std = numpy.std(data)\n",
    "    \n",
    "    x_prim = map(lambda x: 1.0 * (x-x_mean) / x_std, data)\n",
    "    return x_prim\n",
    "\n",
    "std_normalization(d)"
   ]
  },
  {
   "cell_type": "code",
   "execution_count": null,
   "metadata": {
    "collapsed": true
   },
   "outputs": [],
   "source": []
  }
 ],
 "metadata": {
  "celltoolbar": "Raw Cell Format",
  "kernelspec": {
   "display_name": "Python 2",
   "language": "python",
   "name": "python2"
  },
  "language_info": {
   "codemirror_mode": {
    "name": "ipython",
    "version": 2
   },
   "file_extension": ".py",
   "mimetype": "text/x-python",
   "name": "python",
   "nbconvert_exporter": "python",
   "pygments_lexer": "ipython2",
   "version": "2.7.13"
  }
 },
 "nbformat": 4,
 "nbformat_minor": 2
}
