{
 "cells": [
  {
   "cell_type": "markdown",
   "metadata": {
    "deletable": true,
    "editable": true
   },
   "source": [
    "# Feature_scaling\n",
    "\n",
    "*Feature scaling is a method used to standa